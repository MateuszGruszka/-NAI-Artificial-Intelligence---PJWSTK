{
 "cells": [
  {
   "cell_type": "markdown",
   "metadata": {},
   "source": [
    "# Polish Japanese School of Information Technology\n",
    "## Subject:  Artificial Intelligence Tools \n",
    "### Autor: Mateusz Gruszka \n",
    "### Index: s16251\n",
    "#### Date: 7.11.18\n",
    "\n",
    "##### Exercise 6\n",
    "\n",
    "Zadanie 6. Dla sieci neuronowych podanych na Rysunku 6,\n",
    "- a) napisać macierze wag.\n",
    "- b) wyznaczyć sygnał wyjściowy z sieci, jeśli wektor wejściowy jest [1,−1].\n",
    "\n",
    "Rozpatrywać następujące przypadki:\n",
    "* funkcja aktywacji jest funkcją progową unipolarną.\n",
    "* funkcja aktywacji jest funkcją sigmoidalną unipolarną (λ = 1).\n",
    "* funkcja aktywacji jest funkcją progową bipolarna.\n",
    "* funkcja aktywacji jest funkcją sigmoidalną bipolarna (λ = 1).\n"
   ]
  },
  {
   "cell_type": "markdown",
   "metadata": {},
   "source": [
    "#### Data:"
   ]
  },
  {
   "cell_type": "code",
   "execution_count": 171,
   "metadata": {},
   "outputs": [],
   "source": [
    "import numpy as np\n",
    "import math\n",
    "X_input = np.array([1,-1,0])\n",
    "B_input = np.array([0,0,1])\n",
    "\n",
    "alpha = 1"
   ]
  },
  {
   "cell_type": "markdown",
   "metadata": {},
   "source": [
    "##### Activation functions:"
   ]
  },
  {
   "cell_type": "code",
   "execution_count": 172,
   "metadata": {},
   "outputs": [],
   "source": [
    "def f_bin_unipolar(net):\n",
    "    if(net >= 0):\n",
    "        return 1\n",
    "    else:\n",
    "        return 0\n",
    "     \n",
    "def f_bin_bipolar(net):\n",
    "    if(net >= 0):\n",
    "        return 1\n",
    "    else:\n",
    "        return -1\n",
    "    \n",
    "def f_sig_unipolar(net):\n",
    "    return 1 / (1 + math.exp(-1*net*alpha)) \n",
    "    \n",
    "    \n",
    "def f_sig_bipolar(net):\n",
    "    return (2 / (1 + math.exp(-1*net*alpha))) - 1"
   ]
  },
  {
   "cell_type": "markdown",
   "metadata": {},
   "source": [
    "### Neuron"
   ]
  },
  {
   "cell_type": "markdown",
   "metadata": {},
   "source": [
    "a) "
   ]
  },
  {
   "cell_type": "code",
   "execution_count": 173,
   "metadata": {
    "scrolled": true
   },
   "outputs": [
    {
     "name": "stdout",
     "output_type": "stream",
     "text": [
      "\u001b[31m OUTPUT: net array result: \u001b[0m\n",
      "-2\n"
     ]
    }
   ],
   "source": [
    "W_1 = np.array([-1,3,0])\n",
    "bias_weight_1 = np.array([0,0,2])\n",
    "net_1 = W_1@X_input + B_input@bias_weight_1\n",
    "\n",
    "print(\"\\x1b[31m OUTPUT: net array result: \\x1b[0m\")\n",
    "print(net_1)"
   ]
  },
  {
   "cell_type": "markdown",
   "metadata": {},
   "source": [
    "b)"
   ]
  },
  {
   "cell_type": "markdown",
   "metadata": {},
   "source": [
    "- funkcja aktywacji jest funkcją progową unipolarną"
   ]
  },
  {
   "cell_type": "code",
   "execution_count": 174,
   "metadata": {},
   "outputs": [
    {
     "name": "stdout",
     "output_type": "stream",
     "text": [
      "\u001b[31m OUTPUT: activation f_bin_unipolar function result: \u001b[0m\n",
      "0\n"
     ]
    }
   ],
   "source": [
    "Y_1 = f_bin_unipolar(net_1)\n",
    "print(\"\\x1b[31m OUTPUT: activation f_bin_unipolar function result: \\x1b[0m\")\n",
    "print(Y_1)"
   ]
  },
  {
   "cell_type": "markdown",
   "metadata": {},
   "source": [
    " - funkcja aktywacji jest funkcją sigmoidalną unipolarną (λ = 1).\n"
   ]
  },
  {
   "cell_type": "code",
   "execution_count": 175,
   "metadata": {},
   "outputs": [
    {
     "name": "stdout",
     "output_type": "stream",
     "text": [
      "\u001b[31m OUTPUT: activation f_sig_unipolar function result: \u001b[0m\n",
      "0.11920292202211755\n"
     ]
    }
   ],
   "source": [
    "Y_1 = f_sig_unipolar(net_1)\n",
    "print(\"\\x1b[31m OUTPUT: activation f_sig_unipolar function result: \\x1b[0m\")\n",
    "print(Y_1)"
   ]
  },
  {
   "cell_type": "markdown",
   "metadata": {},
   "source": [
    " - funkcja aktywacji jest funkcją progową bipolarna.\n"
   ]
  },
  {
   "cell_type": "code",
   "execution_count": 176,
   "metadata": {},
   "outputs": [
    {
     "name": "stdout",
     "output_type": "stream",
     "text": [
      "\u001b[31m OUTPUT: activation f_bin_unipolar function result: \u001b[0m\n",
      "0\n"
     ]
    }
   ],
   "source": [
    "Y_1 = f_bin_unipolar(net_1)\n",
    "print(\"\\x1b[31m OUTPUT: activation f_bin_unipolar function result: \\x1b[0m\")\n",
    "print(Y_1)"
   ]
  },
  {
   "cell_type": "markdown",
   "metadata": {},
   "source": [
    " - funkcja aktywacji jest funkcją sigmoidalną bipolarna (λ = 1).\n"
   ]
  },
  {
   "cell_type": "code",
   "execution_count": 177,
   "metadata": {},
   "outputs": [
    {
     "name": "stdout",
     "output_type": "stream",
     "text": [
      "\u001b[31m OUTPUT: activation f_sig_bipolar function result: \u001b[0m\n",
      "-0.7615941559557649\n"
     ]
    }
   ],
   "source": [
    "Y_1 = f_sig_bipolar(net_1)\n",
    "print(\"\\x1b[31m OUTPUT: activation f_sig_bipolar function result: \\x1b[0m\")\n",
    "print(Y_1)"
   ]
  },
  {
   "cell_type": "markdown",
   "metadata": {},
   "source": [
    "### Jedno-warstwowa sieć neuronowa"
   ]
  },
  {
   "cell_type": "markdown",
   "metadata": {},
   "source": [
    "- funkcja aktywacji jest funkcją progową unipolarną"
   ]
  },
  {
   "cell_type": "markdown",
   "metadata": {},
   "source": [
    "a) "
   ]
  },
  {
   "cell_type": "code",
   "execution_count": 178,
   "metadata": {
    "scrolled": true
   },
   "outputs": [
    {
     "name": "stdout",
     "output_type": "stream",
     "text": [
      "\u001b[31m  OUTPUT: net array result: \u001b[0m\n",
      "[ 3  1 -4]\n"
     ]
    }
   ],
   "source": [
    "W_2 = np.array([[2,-1,0],[-4,-5,0],[0,1,0]])\n",
    "bias_weight_2 = np.array([[0,0,2],[0,0,3],[0,0,-3]])\n",
    "net_2 = W_2@X_input + B_input@bias_weight_2\n",
    "print(\"\\x1b[31m  OUTPUT: net array result: \\x1b[0m\")\n",
    "print(net_2)"
   ]
  },
  {
   "cell_type": "markdown",
   "metadata": {},
   "source": [
    "b)"
   ]
  },
  {
   "cell_type": "markdown",
   "metadata": {},
   "source": [
    "- funkcja aktywacji jest funkcją progową unipolarną"
   ]
  },
  {
   "cell_type": "code",
   "execution_count": 179,
   "metadata": {},
   "outputs": [
    {
     "name": "stdout",
     "output_type": "stream",
     "text": [
      "\u001b[31m OUTPUT: activation f_bin_unipolar function result: \u001b[0m\n",
      "[1, 1, 0]\n"
     ]
    }
   ],
   "source": [
    "Y_2 = []\n",
    "for element in net: \n",
    "    result = f_bin_unipolar(element)\n",
    "    Y_2.append(result)  \n",
    "print(\"\\x1b[31m OUTPUT: activation f_bin_unipolar function result: \\x1b[0m\")\n",
    "print(Y_2)"
   ]
  },
  {
   "cell_type": "markdown",
   "metadata": {},
   "source": [
    " - funkcja aktywacji jest funkcją sigmoidalną unipolarną (λ = 1).\n"
   ]
  },
  {
   "cell_type": "code",
   "execution_count": 180,
   "metadata": {},
   "outputs": [
    {
     "name": "stdout",
     "output_type": "stream",
     "text": [
      "\u001b[31m OUTPUT: activation f_sig_unipolar function result: \u001b[0m\n",
      "[0.9525741268224334, 0.7310585786300049, 0.01798620996209156]\n"
     ]
    }
   ],
   "source": [
    "Y_2 = []\n",
    "for element in net: \n",
    "    result = f_sig_unipolar(element)\n",
    "    Y_2.append(result)  \n",
    "print(\"\\x1b[31m OUTPUT: activation f_sig_unipolar function result: \\x1b[0m\")\n",
    "print(Y_2)"
   ]
  },
  {
   "cell_type": "markdown",
   "metadata": {},
   "source": [
    " - funkcja aktywacji jest funkcją progową bipolarna.\n"
   ]
  },
  {
   "cell_type": "code",
   "execution_count": 181,
   "metadata": {},
   "outputs": [
    {
     "name": "stdout",
     "output_type": "stream",
     "text": [
      "\u001b[31m OUTPUT: activation f_bin_unipolar function result: \u001b[0m\n",
      "[1, 1, 0]\n"
     ]
    }
   ],
   "source": [
    "Y_2 = []\n",
    "for element in net: \n",
    "    result = f_bin_unipolar(element)\n",
    "    Y_2.append(result)  \n",
    "print(\"\\x1b[31m OUTPUT: activation f_bin_unipolar function result: \\x1b[0m\")\n",
    "print(Y_2)"
   ]
  },
  {
   "cell_type": "markdown",
   "metadata": {},
   "source": [
    " - funkcja aktywacji jest funkcją sigmoidalną bipolarna (λ = 1).\n"
   ]
  },
  {
   "cell_type": "code",
   "execution_count": 182,
   "metadata": {},
   "outputs": [
    {
     "name": "stdout",
     "output_type": "stream",
     "text": [
      "\u001b[31m OUTPUT: activation f_sig_bipolar function result: \u001b[0m\n",
      "[0.9051482536448667, 0.4621171572600098, -0.9640275800758169]\n"
     ]
    }
   ],
   "source": [
    "Y_2 = []\n",
    "for element in net: \n",
    "    result = f_sig_bipolar(element)\n",
    "    Y_2.append(result)  \n",
    "print(\"\\x1b[31m OUTPUT: activation f_sig_bipolar function result: \\x1b[0m\")\n",
    "print(Y_2)"
   ]
  },
  {
   "cell_type": "markdown",
   "metadata": {},
   "source": [
    "### Dwu-warstwowa sieć neuronowa"
   ]
  },
  {
   "cell_type": "markdown",
   "metadata": {},
   "source": [
    "- funkcja aktywacji jest funkcją progową unipolarną"
   ]
  },
  {
   "cell_type": "markdown",
   "metadata": {},
   "source": [
    "a) "
   ]
  },
  {
   "cell_type": "code",
   "execution_count": 183,
   "metadata": {
    "scrolled": true
   },
   "outputs": [],
   "source": [
    "W_3_1 = np.array([[2,-1,0],[-4,-1,0],[0,1,0]])\n",
    "W_3_2 = np.array([[-3,-1,4,0],[1,-1,2,0]])\n",
    "bias_weight_3_1 = np.array([[0,0,0],[0,0,2],[0,0,-1]])\n",
    "bias_weight_3_2 = np.array([[0,0,0,0],[0,0,0,0]])\n",
    "B_input_3_2 = np.array([0,0,0,1])\n",
    "\n",
    "net_3_1 = W_3_1@X_input + B_input@bias_weight_3_1"
   ]
  },
  {
   "cell_type": "markdown",
   "metadata": {},
   "source": [
    "b)"
   ]
  },
  {
   "cell_type": "markdown",
   "metadata": {},
   "source": [
    "- funkcja aktywacji jest funkcją progową unipolarną"
   ]
  },
  {
   "cell_type": "code",
   "execution_count": 184,
   "metadata": {},
   "outputs": [
    {
     "name": "stdout",
     "output_type": "stream",
     "text": [
      "\u001b[31m OUTPUT: activation f_bin_unipolar function result: \u001b[0m\n",
      "[1, 1, 1, 1]\n"
     ]
    }
   ],
   "source": [
    "Y_3_1 = []\n",
    "for element in net_3_1: \n",
    "    result = f_bin_unipolar(element)\n",
    "    Y_3_1.append(result)  \n",
    "\n",
    "Y_3_1.append(0)\n",
    "    \n",
    "net_3_2 = W_3_2@Y_3_1+ bias_weight_3_2@B_input_3_2\n",
    "\n",
    "Y_final_layer_output = []\n",
    "for element in Y_3_1: \n",
    "    result = f_bin_unipolar(element)\n",
    "    Y_final_layer_output.append(result) \n",
    "\n",
    "    \n",
    "print(\"\\x1b[31m OUTPUT: activation f_bin_unipolar function result: \\x1b[0m\")\n",
    "print(Y_final_layer_output)"
   ]
  },
  {
   "cell_type": "markdown",
   "metadata": {},
   "source": [
    " - funkcja aktywacji jest funkcją sigmoidalną unipolarną (λ = 1).\n"
   ]
  },
  {
   "cell_type": "code",
   "execution_count": 185,
   "metadata": {},
   "outputs": [
    {
     "name": "stdout",
     "output_type": "stream",
     "text": [
      "\u001b[31m OUTPUT: activation f_sig_unipolar function result: \u001b[0m\n",
      "[0.7216325609518421, 0.5118542464834632, 0.5297654931903004, 0.5]\n"
     ]
    }
   ],
   "source": [
    "Y_3_1 = []\n",
    "for element in net_3_1: \n",
    "    result = f_sig_unipolar(element)\n",
    "    Y_3_1.append(result)  \n",
    "\n",
    "Y_3_1.append(0)\n",
    "    \n",
    "net_3_2 = W_3_2@Y_3_1+ bias_weight_3_2@B_input_3_2\n",
    "\n",
    "Y_final_layer_output = []\n",
    "for element in Y_3_1: \n",
    "    result = f_sig_unipolar(element)\n",
    "    Y_final_layer_output.append(result) \n",
    "\n",
    "print(\"\\x1b[31m OUTPUT: activation f_sig_unipolar function result: \\x1b[0m\")\n",
    "print(Y_final_layer_output)"
   ]
  },
  {
   "cell_type": "markdown",
   "metadata": {},
   "source": [
    " - funkcja aktywacji jest funkcją progową bipolarna.\n"
   ]
  },
  {
   "cell_type": "code",
   "execution_count": 186,
   "metadata": {},
   "outputs": [
    {
     "name": "stdout",
     "output_type": "stream",
     "text": [
      "\u001b[31m OUTPUT: activation f_bin_unipolar function result: \u001b[0m\n",
      "[1, 1, 1, 1]\n"
     ]
    }
   ],
   "source": [
    "Y_3_1 = []\n",
    "for element in net_3_1: \n",
    "    result = f_bin_unipolar(element)\n",
    "    Y_3_1.append(result)  \n",
    "\n",
    "Y_3_1.append(0)\n",
    "    \n",
    "net_3_2 = W_3_2@Y_3_1+ bias_weight_3_2@B_input_3_2\n",
    "\n",
    "Y_final_layer_output = []\n",
    "for element in Y_3_1: \n",
    "    result = f_bin_unipolar(element)\n",
    "    Y_final_layer_output.append(result) \n",
    "\n",
    "print(\"\\x1b[31m OUTPUT: activation f_bin_unipolar function result: \\x1b[0m\")\n",
    "print(Y_final_layer_output)"
   ]
  },
  {
   "cell_type": "markdown",
   "metadata": {},
   "source": [
    " - funkcja aktywacji jest funkcją sigmoidalną bipolarna (λ = 1).\n"
   ]
  },
  {
   "cell_type": "code",
   "execution_count": 187,
   "metadata": {},
   "outputs": [
    {
     "name": "stdout",
     "output_type": "stream",
     "text": [
      "\u001b[31m OUTPUT: activation f_sig_bipolar function result: \u001b[0m\n",
      "[0.42401264054072985, -0.42401264054072973, -0.36339948438905245, 0.0]\n"
     ]
    }
   ],
   "source": [
    "Y_3_1 = []\n",
    "for element in net_3_1: \n",
    "    result = f_sig_bipolar(element)\n",
    "    Y_3_1.append(result)  \n",
    "\n",
    "Y_3_1.append(0)\n",
    "    \n",
    "net_3_2 = W_3_2@Y_3_1+ bias_weight_3_2@B_input_3_2\n",
    "\n",
    "Y_final_layer_output = []\n",
    "for element in Y_3_1: \n",
    "    result = f_sig_bipolar(element)\n",
    "    Y_final_layer_output.append(result) \n",
    "\n",
    "print(\"\\x1b[31m OUTPUT: activation f_sig_bipolar function result: \\x1b[0m\")\n",
    "print(Y_final_layer_output)"
   ]
  }
 ],
 "metadata": {
  "kernelspec": {
   "display_name": "Python 3",
   "language": "python",
   "name": "python3"
  },
  "language_info": {
   "codemirror_mode": {
    "name": "ipython",
    "version": 3
   },
   "file_extension": ".py",
   "mimetype": "text/x-python",
   "name": "python",
   "nbconvert_exporter": "python",
   "pygments_lexer": "ipython3",
   "version": "3.6.5"
  }
 },
 "nbformat": 4,
 "nbformat_minor": 2
}
